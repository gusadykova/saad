{
 "cells": [
  {
   "cell_type": "code",
   "execution_count": 7,
   "metadata": {},
   "outputs": [
    {
     "name": "stdout",
     "output_type": "stream",
     "text": [
      "Результат: Фраза 1 длиннее фразы 2\n"
     ]
    }
   ],
   "source": [
    "phrase_1 = 'Сегодня был долгий и насыщенный день'\n",
    "phrase_2 = 'Этот день прошел очень быстро'\n",
    "if len(phrase_1) < len(phrase_2):\n",
    "    print ('Результат: фраза 2 длиннее фразы 1')\n",
    "else :\n",
    "    print('Результат: Фраза 1 длиннее фразы 2')"
   ]
  },
  {
   "cell_type": "code",
   "execution_count": 6,
   "metadata": {},
   "outputs": [
    {
     "name": "stdout",
     "output_type": "stream",
     "text": [
      "Результат: фраза 2 длиннее фразы 1\n"
     ]
    }
   ],
   "source": [
    "phrase_1 = 'Этот день прошел очень быстро'\n",
    "phrase_2 = 'Сегодня был долгий и насыщенный день'\n",
    "if len(phrase_1) < len(phrase_2):\n",
    "    print ('Результат: фраза 2 длиннее фразы 1')\n",
    "else :\n",
    "    print('Результат: Фраза 1 длиннее фразы 2')"
   ]
  },
  {
   "cell_type": "code",
   "execution_count": 8,
   "metadata": {},
   "outputs": [
    {
     "name": "stdout",
     "output_type": "stream",
     "text": [
      "Результат: Длина фраз одинаковая\n"
     ]
    }
   ],
   "source": [
    "phrase_1 = 'Сегодня был долгий и насыщенный день'\n",
    "phrase_2 = 'Сегодня был долгий и насыщенный день'\n",
    "if len(phrase_1) < len(phrase_2):\n",
    "    print ('Результат: фраза 2 длиннее фразы 1')\n",
    "elif len(phrase_1) > len(phrase_2):\n",
    "    print('Результат: Фраза 1 длиннее фразы 2')\n",
    "elif len(phrase_1) == len(phrase_2):\n",
    "    print('Результат: Длина фраз одинаковая')"
   ]
  },
  {
   "cell_type": "code",
   "execution_count": 9,
   "metadata": {},
   "outputs": [
    {
     "name": "stdout",
     "output_type": "stream",
     "text": [
      "2020\n",
      "Високосный год\n"
     ]
    }
   ],
   "source": [
    "year = int(input())\n",
    "if (year % 4 == 0) and (year % 100 != 0) or (year % 400 == 0):\n",
    "    print('Високосный год')\n",
    "else:\n",
    "    print('Обычный год')"
   ]
  },
  {
   "cell_type": "code",
   "execution_count": 10,
   "metadata": {},
   "outputs": [
    {
     "name": "stdout",
     "output_type": "stream",
     "text": [
      "2019\n",
      "Обычный год\n"
     ]
    }
   ],
   "source": [
    "year = int(input())\n",
    "if (year % 4 == 0) and (year % 100 != 0) or (year % 400 == 0):\n",
    "    print('Високосный год')\n",
    "else:\n",
    "    print('Обычный год')"
   ]
  },
  {
   "cell_type": "code",
   "execution_count": 11,
   "metadata": {},
   "outputs": [
    {
     "name": "stdout",
     "output_type": "stream",
     "text": [
      "Введите день рождения:24\n",
      "Введите месяц рождения:6\n",
      "Знак зодиака:Рак\n"
     ]
    }
   ],
   "source": [
    "date=int(input(\"Введите день рождения:\"))\n",
    "month=int(input(\"Введите месяц рождения:\"))\n",
    "if (date>=22 and date<=31 and month==12) or (month==1 and date>=1 and date<=20):\n",
    "   print(\"Знак зодиака:Козерог\")\n",
    "elif (date>=21 and date<=31 and month==1) or (month==2 and date>=1 and date<=19):\n",
    "   print(\"Знак зодиака:Водолей\")\n",
    "elif (date>=20 and date<=29 and month==2) or (month==3 and date>=1 and date<=20):\n",
    "   print(\"Знак зодиака:Рыбы\")\n",
    "elif (date>=21 and date<=31 and month==3) or (month==4 and date>=1 and date<=20):\n",
    "   print(\"Знак зодиака:Овен\")\n",
    "elif (date>=21 and date<=30 and month==4) or (month==5 and date>=1 and date<=21):\n",
    "   print(\"Знак зодиака:Телец\")\n",
    "elif (date>=22 and date<=31 and month==5) or (month==6 and date>=1 and date<=21):\n",
    "   print(\"Знак зодиака:Близнецы\")\n",
    "elif (date>=22 and date<=30 and month==6) or (month==7 and date>=1 and date<=22):\n",
    "   print(\"Знак зодиака:Рак\")\n",
    "elif (date>=23 and date<=31 and month==7) or (month==8 and date>=1 and date<=22):\n",
    "   print(\"Знак зодиака:Лев\")\n",
    "elif (date>=23 and date<=31 and month==8) or (month==9 and date>=1 and date<=23):\n",
    "   print(\"Знак зодиака:Дева\")\n",
    "elif (date>=24 and date<=30 and month==9) or (month==10 and date>=1 and date<=23):\n",
    "   print(\"Знак зодиака:Весы\")\n",
    "elif (date>=24 and date<=31 and month==10) or (month==11 and date>=1 and date<=22):\n",
    "   print(\"Знак зодиака:Скорпион\")\n",
    "elif (date>=23 and date<=30 and month==11) or (month==12 and date>=1 and date<=21):\n",
    "   print(\"Знак зодиака:Стрелец\")"
   ]
  },
  {
   "cell_type": "code",
   "execution_count": 12,
   "metadata": {},
   "outputs": [
    {
     "name": "stdout",
     "output_type": "stream",
     "text": [
      "коробка для лыж\n"
     ]
    }
   ],
   "source": [
    "width = 10\n",
    "length = 205\n",
    "height =5\n",
    "if (width<15 and length<15 and height<15):\n",
    "    print ('коробка 1')\n",
    "elif ( 15<width<50) or (15<length<50) or (15<height<50):\n",
    "    print ('коробка 2')\n",
    "elif (length>200):\n",
    "    print ('коробка для лыж')\n",
    "elif (width>50 or 50<length<200 or height>50):\n",
    "    print ('коробка 3')"
   ]
  },
  {
   "cell_type": "code",
   "execution_count": 13,
   "metadata": {},
   "outputs": [
    {
     "name": "stdout",
     "output_type": "stream",
     "text": [
      "123321\n",
      "Счастливый билет\n"
     ]
    }
   ],
   "source": [
    "number = input()\n",
    "if sum([int(char) for char in number[:3]]) == sum([int(char) for char in number[-3:]]):\n",
    "    print('Счастливый билет')\n",
    "else:\n",
    "    print('Несчастливый билет')"
   ]
  },
  {
   "cell_type": "code",
   "execution_count": 2,
   "metadata": {},
   "outputs": [
    {
     "name": "stdout",
     "output_type": "stream",
     "text": [
      "123456\n",
      "Несчастливый билет\n"
     ]
    }
   ],
   "source": [
    "number = input()\n",
    "if sum([int(char) for char in number[:3]]) == sum([int(char) for char in number[-3:]]):\n",
    "    print('Счастливый билет')\n",
    "else:\n",
    "    print('Несчастливый билет')"
   ]
  },
  {
   "cell_type": "code",
   "execution_count": 3,
   "metadata": {},
   "outputs": [
    {
     "name": "stdout",
     "output_type": "stream",
     "text": [
      "Введите название фигуры =круг\n",
      "Введите радиус r =10\n",
      "314.1592653589793\n"
     ]
    }
   ],
   "source": [
    "import math   \n",
    "fig=str(input(\"Введите название фигуры =\")) \n",
    "if fig==\"круг\":      \n",
    "    r=float(input(\"Введите радиус r =\"))      \n",
    "    S=math.pi*(r**2)   \n",
    "    print(S)\n",
    "elif fig==\"треугольник\":       \n",
    "    a=float(input(\"Введите сторону a =\"))      \n",
    "    b=float(input(\"Введите сторону b =\"))      \n",
    "    c=float(input(\"Введите сторону c =\"))      \n",
    "    p=(a+b+c)/2      \n",
    "    S=math.sqrt((p*(p-a)*(p-b)*(p-c)))  \n",
    "    print(S)\n",
    "elif fig==\"прямоугольник\":       \n",
    "    a=float(input(\"Введите сторону a =\"))      \n",
    "    b=float(input(\"Введите сторону b =\"))      \n",
    "    S=a*b  \n",
    "    print(S)"
   ]
  },
  {
   "cell_type": "code",
   "execution_count": 4,
   "metadata": {},
   "outputs": [
    {
     "name": "stdout",
     "output_type": "stream",
     "text": [
      "Введите название фигуры =прямоугольник\n",
      "Введите сторону a =2\n",
      "Введите сторону b =6\n",
      "12.0\n"
     ]
    }
   ],
   "source": [
    "import math   \n",
    "fig=str(input(\"Введите название фигуры =\")) \n",
    "if fig==\"круг\":      \n",
    "    r=float(input(\"Введите радиус r =\"))      \n",
    "    S=math.pi*(r**2)   \n",
    "    print(S)\n",
    "elif fig==\"треугольник\":       \n",
    "    a=float(input(\"Введите сторону a =\"))      \n",
    "    b=float(input(\"Введите сторону b =\"))      \n",
    "    c=float(input(\"Введите сторону c =\"))      \n",
    "    p=(a+b+c)/2      \n",
    "    S=math.sqrt((p*(p-a)*(p-b)*(p-c)))  \n",
    "    print(S)\n",
    "elif fig==\"прямоугольник\":       \n",
    "    a=float(input(\"Введите сторону a =\"))      \n",
    "    b=float(input(\"Введите сторону b =\"))      \n",
    "    S=a*b  \n",
    "    print(S)"
   ]
  },
  {
   "cell_type": "code",
   "execution_count": 5,
   "metadata": {},
   "outputs": [
    {
     "name": "stdout",
     "output_type": "stream",
     "text": [
      "Введите название фигуры =треугольник\n",
      "Введите сторону a =3\n",
      "Введите сторону b =3\n",
      "Введите сторону c =3\n",
      "3.897114317029974\n"
     ]
    }
   ],
   "source": [
    "import math   \n",
    "fig=str(input(\"Введите название фигуры =\")) \n",
    "if fig==\"круг\":      \n",
    "    r=float(input(\"Введите радиус r =\"))      \n",
    "    S=math.pi*(r**2)   \n",
    "    print(S)\n",
    "elif fig==\"треугольник\":       \n",
    "    a=float(input(\"Введите сторону a =\"))      \n",
    "    b=float(input(\"Введите сторону b =\"))      \n",
    "    c=float(input(\"Введите сторону c =\"))      \n",
    "    p=(a+b+c)/2      \n",
    "    S=math.sqrt((p*(p-a)*(p-b)*(p-c)))  \n",
    "    print(S)\n",
    "elif fig==\"прямоугольник\":       \n",
    "    a=float(input(\"Введите сторону a =\"))      \n",
    "    b=float(input(\"Введите сторону b =\"))      \n",
    "    S=a*b  \n",
    "    print(S)"
   ]
  },
  {
   "cell_type": "code",
   "execution_count": null,
   "metadata": {},
   "outputs": [],
   "source": []
  }
 ],
 "metadata": {
  "kernelspec": {
   "display_name": "Python 3",
   "language": "python",
   "name": "python3"
  },
  "language_info": {
   "codemirror_mode": {
    "name": "ipython",
    "version": 3
   },
   "file_extension": ".py",
   "mimetype": "text/x-python",
   "name": "python",
   "nbconvert_exporter": "python",
   "pygments_lexer": "ipython3",
   "version": "3.8.3"
  }
 },
 "nbformat": 4,
 "nbformat_minor": 4
}
