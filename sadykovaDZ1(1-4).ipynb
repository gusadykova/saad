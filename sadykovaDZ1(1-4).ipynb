{
 "cells": [
  {
   "cell_type": "code",
   "execution_count": 50,
   "metadata": {},
   "outputs": [],
   "source": [
    "phrase_1 = 'Сегодня был долгий и насыщенный день'"
   ]
  },
  {
   "cell_type": "code",
   "execution_count": 51,
   "metadata": {},
   "outputs": [],
   "source": [
    "phrase_2 = 'Этот день прошел очень быстро'"
   ]
  },
  {
   "cell_type": "code",
   "execution_count": 52,
   "metadata": {},
   "outputs": [
    {
     "name": "stdout",
     "output_type": "stream",
     "text": [
      "Результат: Фраза 1 длиннее фразы 2\n"
     ]
    }
   ],
   "source": [
    "if len(phrase_1) < len(phrase_2):\n",
    "    print ('Результат: фраза 2 длиннее фразы 1')\n",
    "else :\n",
    "    print('Результат: Фраза 1 длиннее фразы 2')"
   ]
  },
  {
   "cell_type": "code",
   "execution_count": 53,
   "metadata": {},
   "outputs": [
    {
     "name": "stdout",
     "output_type": "stream",
     "text": [
      "Результат: фраза 2 длиннее фразы 1\n"
     ]
    }
   ],
   "source": [
    "phrase_1 = 'Этот день прошел очень быстро'\n",
    "phrase_2 = 'Сегодня был долгий и насыщенный день'\n",
    "if len(phrase_1) < len(phrase_2):\n",
    "    print ('Результат: фраза 2 длиннее фразы 1')\n",
    "else :\n",
    "    print('Результат: Фраза 1 длиннее фразы 2')"
   ]
  },
  {
   "cell_type": "code",
   "execution_count": 59,
   "metadata": {},
   "outputs": [
    {
     "name": "stdout",
     "output_type": "stream",
     "text": [
      "Результат: Длина фраз одинаковая\n"
     ]
    }
   ],
   "source": [
    "phrase_1 = 'Сегодня был долгий и насыщенный день'\n",
    "phrase_2 = 'Сегодня был долгий и насыщенный день'\n",
    "if len(phrase_1) < len(phrase_2):\n",
    "    print ('Результат: фраза 2 длиннее фразы 1')\n",
    "elif len(phrase_1) > len(phrase_2):\n",
    "    print('Результат: Фраза 1 длиннее фразы 2')\n",
    "elif len(phrase_1) == len(phrase_2):\n",
    "    print('Результат: Длина фраз одинаковая')"
   ]
  },
  {
   "cell_type": "code",
   "execution_count": 60,
   "metadata": {},
   "outputs": [
    {
     "name": "stdout",
     "output_type": "stream",
     "text": [
      "2016\n",
      "Високосный год\n"
     ]
    }
   ],
   "source": [
    "year = int(input())\n",
    "if (year % 4 == 0) and (year % 100 != 0) or (year % 400 == 0):\n",
    "    print('Високосный год')\n",
    "else:\n",
    "    print('Обычный год')"
   ]
  },
  {
   "cell_type": "code",
   "execution_count": 61,
   "metadata": {},
   "outputs": [
    {
     "name": "stdout",
     "output_type": "stream",
     "text": [
      "2017\n",
      "Обычный год\n"
     ]
    }
   ],
   "source": [
    "year = int(input())\n",
    "if (year % 4 == 0) and (year % 100 != 0) or (year % 400 == 0):\n",
    "    print('Високосный год')\n",
    "else:\n",
    "    print('Обычный год')"
   ]
  },
  {
   "cell_type": "code",
   "execution_count": 64,
   "metadata": {},
   "outputs": [
    {
     "name": "stdout",
     "output_type": "stream",
     "text": [
      "Введите день рождения:24\n",
      "Введите месяц рождения:6\n",
      "Знак зодиака:Рак\n"
     ]
    }
   ],
   "source": [
    "date=int(input(\"Введите день рождения:\"))\n",
    "month=int(input(\"Введите месяц рождения:\"))\n",
    "if (date>=22 and date<=31 and month==12) or (month==1 and date>=1 and date<=20):\n",
    "   print(\"Знак зодиака:Козерог\")\n",
    "elif (date>=21 and date<=31 and month==1) or (month==2 and date>=1 and date<=19):\n",
    "   print(\"Знак зодиака:Водолей\")\n",
    "elif (date>=20 and date<=29 and month==2) or (month==3 and date>=1 and date<=20):\n",
    "   print(\"Знак зодиака:Рыбы\")\n",
    "elif (date>=21 and date<=31 and month==3) or (month==4 and date>=1 and date<=20):\n",
    "   print(\"Знак зодиака:Овен\")\n",
    "elif (date>=21 and date<=30 and month==4) or (month==5 and date>=1 and date<=21):\n",
    "   print(\"Знак зодиака:Телец\")\n",
    "elif (date>=22 and date<=31 and month==5) or (month==6 and date>=1 and date<=21):\n",
    "   print(\"Знак зодиака:Близнецы\")\n",
    "elif (date>=22 and date<=30 and month==6) or (month==7 and date>=1 and date<=22):\n",
    "   print(\"Знак зодиака:Рак\")\n",
    "elif (date>=23 and date<=31 and month==7) or (month==8 and date>=1 and date<=22):\n",
    "   print(\"Знак зодиака:Лев\")\n",
    "elif (date>=23 and date<=31 and month==8) or (month==9 and date>=1 and date<=23):\n",
    "   print(\"Знак зодиака:Дева\")\n",
    "elif (date>=24 and date<=30 and month==9) or (month==10 and date>=1 and date<=23):\n",
    "   print(\"Знак зодиака:Весы\")\n",
    "elif (date>=24 and date<=31 and month==10) or (month==11 and date>=1 and date<=22):\n",
    "   print(\"Знак зодиака:Скорпион\")\n",
    "elif (date>=23 and date<=30 and month==11) or (month==12 and date>=1 and date<=21):\n",
    "   print(\"Знак зодиака:Стрелец\")"
   ]
  },
  {
   "cell_type": "code",
   "execution_count": 140,
   "metadata": {},
   "outputs": [
    {
     "name": "stdout",
     "output_type": "stream",
     "text": [
      "коробка для лыж\n"
     ]
    }
   ],
   "source": [
    "width = 10\n",
    "length = 205\n",
    "height =5\n",
    "if (width<15 and length<15 and height<15):\n",
    "    print ('коробка 1')\n",
    "elif ( 15<width<50) or (15<length<50) or (15<height<50):\n",
    "    print ('коробка 2')\n",
    "elif (length>200):\n",
    "    print ('коробка для лыж')\n",
    "elif (width>50 or 50<length<200 or height>50):\n",
    "    print ('коробка 3')"
   ]
  },
  {
   "cell_type": "code",
   "execution_count": null,
   "metadata": {},
   "outputs": [],
   "source": []
  }
 ],
 "metadata": {
  "kernelspec": {
   "display_name": "Python 3",
   "language": "python",
   "name": "python3"
  },
  "language_info": {
   "codemirror_mode": {
    "name": "ipython",
    "version": 3
   },
   "file_extension": ".py",
   "mimetype": "text/x-python",
   "name": "python",
   "nbconvert_exporter": "python",
   "pygments_lexer": "ipython3",
   "version": "3.8.3"
  }
 },
 "nbformat": 4,
 "nbformat_minor": 4
}
